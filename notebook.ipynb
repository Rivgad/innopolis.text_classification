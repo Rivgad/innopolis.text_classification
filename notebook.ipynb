{
  "cells": [
    {
      "cell_type": "markdown",
      "metadata": {},
      "source": [
        "# Классификация текстов\n"
      ]
    },
    {
      "cell_type": "markdown",
      "metadata": {},
      "source": [
        "## Мультиклассовая классификация по вопросам о языках программирования на Stack Overflow\n"
      ]
    },
    {
      "cell_type": "code",
      "execution_count": 1,
      "metadata": {
        "id": "8RZOuS9LWQvv"
      },
      "outputs": [],
      "source": [
        "import matplotlib.pyplot as plt\n",
        "import os\n",
        "import re\n",
        "import shutil\n",
        "import string\n",
        "import tensorflow as tf\n",
        "\n",
        "from keras import layers\n",
        "from keras import losses"
      ]
    },
    {
      "cell_type": "markdown",
      "metadata": {
        "id": "NBTI1bi8qdFV"
      },
      "source": [
        "## Sentiment analysis\n",
        "\n",
        "This dataset is an extract from the public Stack Overflow dataset for use as a tutorial on tensorflow.org.\n",
        "\n",
        "It contains the body of 16,000 posts on four languages (Java, Python, CSharp, and Javascript), which are equally divided into train and test.\n",
        "\n",
        "The keywords \"Java\", \"Python\", \"CSharp\" and \"JavaScript\" have been replaced in each post by the word \"BLANK\" in order to increase the difficulty of this dataset in classification examples.\n"
      ]
    },
    {
      "cell_type": "markdown",
      "metadata": {
        "id": "iAsKG535pHep"
      },
      "source": [
        "### Скачайте датасет\n"
      ]
    },
    {
      "cell_type": "code",
      "execution_count": 2,
      "metadata": {
        "colab": {
          "base_uri": "https://localhost:8080/"
        },
        "id": "k7ZYnuajVlFN",
        "outputId": "34571748-2eac-456b-b24a-a830262701fc"
      },
      "outputs": [],
      "source": [
        "url = \"https://storage.googleapis.com/download.tensorflow.org/data/stack_overflow_16k.tar.gz\"\n",
        "\n",
        "dataset = tf.keras.utils.get_file(\n",
        "    \"stack_overflow_16k\", url, untar=True, cache_dir=\".\", cache_subdir=\".dataset\"\n",
        ")\n",
        "\n",
        "dataset_dir = os.path.dirname(dataset)"
      ]
    },
    {
      "cell_type": "code",
      "execution_count": 3,
      "metadata": {
        "colab": {
          "base_uri": "https://localhost:8080/"
        },
        "id": "355CfOvsV1pl",
        "outputId": "eac7e2bb-20ea-4cb5-bdae-0b7cbc8b0169"
      },
      "outputs": [
        {
          "data": {
            "text/plain": [
              "['README.md', 'stack_overflow_16k.tar.gz', 'test', 'train']"
            ]
          },
          "execution_count": 3,
          "metadata": {},
          "output_type": "execute_result"
        }
      ],
      "source": [
        "os.listdir(dataset_dir)"
      ]
    },
    {
      "cell_type": "code",
      "execution_count": 4,
      "metadata": {
        "colab": {
          "base_uri": "https://localhost:8080/"
        },
        "id": "7ASND15oXpF1",
        "outputId": "62a3f730-e35f-4a56-d992-5620e256342e"
      },
      "outputs": [
        {
          "data": {
            "text/plain": [
              "['csharp', 'java', 'javascript', 'python']"
            ]
          },
          "execution_count": 4,
          "metadata": {},
          "output_type": "execute_result"
        }
      ],
      "source": [
        "train_dir = os.path.join(dataset_dir, \"train\")\n",
        "os.listdir(train_dir)"
      ]
    },
    {
      "cell_type": "code",
      "execution_count": 5,
      "metadata": {
        "id": "R7g8hFvzWLIZ"
      },
      "outputs": [
        {
          "name": "stdout",
          "output_type": "stream",
          "text": [
            "\"is it legal to define two methods with the same name but different returning types? i've written a piece of code to determine a typical palindrome string. i did this by the definition of a reverse() method returning a string. i also eager to have the same method, but in the void form, because of some future needs..as i add the latter to the code, the valid output will become invalid..so, the question is that is it legal to define two methods with the same name but different returning types?.if not, please let me know how to write this code with the void-type method...class detector(object):.    def __init__(self,string):.        self.string = string..    forbidden = (' ','!','?','.','-','_','&amp;','%',\"\"#\"\",\"\",\"\")..    def eliminator(self):.        for item in self.forbidden:.            if item in self.string:.                self.string = self.string.replace(item,\"\"\"\")..    def reverse(self):.        return self.string[::-1]            ..    #def reverse(self):.    #    self.string = self.string[::-1]    i am prone to add this method..    def check(self):.        reversed = self.reverse().        if self.string == reversed:.            print(\"\"yes\"\").        else:.            print(\"\"no\"\")..det = detector(\"\"rise to vote, sir!\"\").det.eliminator().det.check()...when i add the commented lines, the valid \"\"yes\"\" becomes \"\"no\"\"!\"\n",
            "\n"
          ]
        }
      ],
      "source": [
        "sample_file = os.path.join(train_dir, \"python/0.txt\")\n",
        "with open(sample_file) as f:\n",
        "    print(f.read())"
      ]
    },
    {
      "cell_type": "markdown",
      "metadata": {
        "id": "Mk20TEm6ZRFP"
      },
      "source": [
        "### Загрузите датасет\n",
        "\n",
        "Структура скаченного датасета\n",
        "\n",
        "```\n",
        ".dataset/\n",
        "....test/\n",
        ".......python/\n",
        "..........0.txt\n",
        "..........1.txt\n",
        ".......javascript/\n",
        "..........0.txt\n",
        "..........1.txt\n",
        ".......csharp/\n",
        "..........0.txt\n",
        "..........1.txt\n",
        ".......java/\n",
        "..........0.txt\n",
        "..........1.txt\n",
        "....train/\n",
        ".......python/\n",
        "..........0.txt\n",
        "..........1.txt\n",
        ".......javascript/\n",
        "..........0.txt\n",
        "..........1.txt\n",
        ".......csharp/\n",
        "..........0.txt\n",
        "..........1.txt\n",
        ".......java/\n",
        "..........0.txt\n",
        "..........1.txt\n",
        "```\n"
      ]
    },
    {
      "cell_type": "markdown",
      "metadata": {
        "id": "95kkUdRoaeMw"
      },
      "source": [
        "Используем `text_dataset_from_directory` для создания `tf.data.Dataset`.\n",
        "\n",
        "Датасет уже поделен на train и test, но мы выделим train и validation set, используя деление 80:20.\n"
      ]
    },
    {
      "cell_type": "code",
      "execution_count": 21,
      "metadata": {
        "colab": {
          "base_uri": "https://localhost:8080/"
        },
        "id": "nOrK-MTYaw3C",
        "outputId": "2fa0cc27-a3dd-40f2-9b48-ae410c8cd087"
      },
      "outputs": [
        {
          "name": "stdout",
          "output_type": "stream",
          "text": [
            "Found 8000 files belonging to 4 classes.\n",
            "Using 6400 files for training.\n"
          ]
        }
      ],
      "source": [
        "batch_size = 32\n",
        "seed = 42\n",
        "\n",
        "raw_train_ds: tf.data.Dataset = tf.keras.utils.text_dataset_from_directory(\n",
        "    \".dataset/train\",\n",
        "    batch_size=batch_size,\n",
        "    validation_split=0.2,\n",
        "    subset=\"training\",\n",
        "    seed=seed,\n",
        ")"
      ]
    },
    {
      "cell_type": "markdown",
      "metadata": {
        "id": "5Y33oxOUpYkh"
      },
      "source": [
        "Мы можем заметить, что в папке train 8,000 примеров, из которых 80% (6400) будут использованы для обучения.\n",
        "\n",
        "Пример элементов датасета:\n"
      ]
    },
    {
      "cell_type": "code",
      "execution_count": 54,
      "metadata": {
        "colab": {
          "base_uri": "https://localhost:8080/"
        },
        "id": "51wNaPPApk1K",
        "outputId": "9dba5c87-8ad4-4e39-87ea-cb763470128a"
      },
      "outputs": [
        {
          "name": "stdout",
          "output_type": "stream",
          "text": [
            "Body: b'\"confusing instance of not sure why when i make an instance as in 2 the complier fails and 3 succes..//instantiate class used to fill in new stock details.createstockcodedetails createstockdetailsinput = new createstockcodedetails();.createstockdetailsinput.createstockcodedetails(createnewstockcode); // (2).createstockdetailsinput.createstockdetails(createnewstockcode);  // (3)...when i name the constructor the same name as the class, it fails. why?..class createstockcodedetails extends jframe implements actionlistener {.    public void createstockdetails(string stockcode) {.        // this works   .    }.} .....class createstockcodedetails extends jframe implements actionlistener {.    public void createstockcodedetails(string stockcode) {.        // this fails. why?.    }.}\"\\n'\n",
            "Label: 1\n",
            "\n",
            "Body: b'\"different output than expected i just started programming and right now i\\'m stuck with a problem. i\\'m wondering how if functions really work. ..a = [ 20.0, 8.0, 2.5 ].b = 4.if b &gt; len(a): .    r = 2*b.r = b...i expected the output of 8, but the actual output is 4. how come? because 4 > 3 and that should execute the if statement right?\"\\n'\n",
            "Label: 3\n",
            "\n",
            "Body: b'\"blank foo = foo.bar = foobar i\\'m pretty confused by something i encountered in an application i\\'m working in...there is a method in my object, called move which does this (simplified) upon clicking a list item...var board = {.  move: function() {.     var unique_id = puzzle.pieces.id = 28;.     // more stuff going on with the unique_id variable..  },.}...then throughout the application, puzzle.pieces.id gets used to assign ids to other stuff like this:..$(\\'#puzzle-piece-\\' + puzzle.pieces.id + \\'\\');...after thinking about it might be doing for a while, i came with the following:.upon invoking the method, unique_id assigns a temporary property to the pieces object in the puzzle namespace object. then when clicking a new list item, the the property get overwritten with a new value. ..if this is correct, is it a common practise to quickly make a temporary value available throughout an application, if not, what does it really do?\"\\n'\n",
            "Label: 2\n",
            "\n"
          ]
        }
      ],
      "source": [
        "for text_batch, label_batch in raw_train_ds.take(1).as_numpy_iterator():\n",
        "    for i in range(3):\n",
        "        print(\"Body:\", text_batch[i])\n",
        "        print(\"Label:\", label_batch[i])\n",
        "        print()"
      ]
    },
    {
      "cell_type": "markdown",
      "metadata": {
        "id": "JWq1SUIrp1a-"
      },
      "source": [
        "У нас есть Labels от 0 до 3. Используем class_names, чтобы просмотреть их.\n"
      ]
    },
    {
      "cell_type": "code",
      "execution_count": 55,
      "metadata": {
        "colab": {
          "base_uri": "https://localhost:8080/"
        },
        "id": "MlICTG8spyO2",
        "outputId": "50cfdab8-4191-460f-ee6b-822624dddda9"
      },
      "outputs": [
        {
          "name": "stdout",
          "output_type": "stream",
          "text": [
            "Label 0 corresponds to csharp\n",
            "Label 1 corresponds to java\n",
            "Label 2 corresponds to javascript\n",
            "Label 3 corresponds to python\n"
          ]
        }
      ],
      "source": [
        "print(\"Label 0 corresponds to\", raw_train_ds.class_names[0])\n",
        "print(\"Label 1 corresponds to\", raw_train_ds.class_names[1])\n",
        "print(\"Label 2 corresponds to\", raw_train_ds.class_names[2])\n",
        "print(\"Label 3 corresponds to\", raw_train_ds.class_names[3])"
      ]
    },
    {
      "cell_type": "markdown",
      "metadata": {
        "id": "pbdO39vYqdJr"
      },
      "source": [
        "Создаем датасеты validation и test.\n"
      ]
    },
    {
      "cell_type": "code",
      "execution_count": 56,
      "metadata": {
        "colab": {
          "base_uri": "https://localhost:8080/"
        },
        "id": "JsMwwhOoqjKF",
        "outputId": "325725e8-9ee4-4dc6-a871-fcf4fec8b4fc"
      },
      "outputs": [
        {
          "name": "stdout",
          "output_type": "stream",
          "text": [
            "Found 8000 files belonging to 4 classes.\n",
            "Using 1600 files for validation.\n"
          ]
        }
      ],
      "source": [
        "raw_val_ds = tf.keras.utils.text_dataset_from_directory(\n",
        "    \".dataset/train\",\n",
        "    batch_size=batch_size,\n",
        "    validation_split=0.2,\n",
        "    subset=\"validation\",\n",
        "    seed=seed,\n",
        ")"
      ]
    },
    {
      "cell_type": "code",
      "execution_count": 57,
      "metadata": {
        "colab": {
          "base_uri": "https://localhost:8080/"
        },
        "id": "rdSr0Nt3q_ns",
        "outputId": "7a151112-512a-4a83-f569-7b3c01b981dd"
      },
      "outputs": [
        {
          "name": "stdout",
          "output_type": "stream",
          "text": [
            "Found 8000 files belonging to 4 classes.\n"
          ]
        }
      ],
      "source": [
        "raw_test_ds = tf.keras.utils.text_dataset_from_directory(\n",
        "    \".dataset/test\", batch_size=batch_size\n",
        ")"
      ]
    },
    {
      "cell_type": "markdown",
      "metadata": {
        "id": "qJmTiO0IYAjm"
      },
      "source": [
        "### Подготовьте датасет\n"
      ]
    },
    {
      "cell_type": "markdown",
      "metadata": {},
      "source": [
        "Стандартизация данных\n"
      ]
    },
    {
      "cell_type": "code",
      "execution_count": 58,
      "metadata": {
        "id": "SDRI_s_tX1Hk"
      },
      "outputs": [],
      "source": [
        "def custom_standardization(input_data):\n",
        "    return tf.strings.regex_replace(\n",
        "        tf.strings.lower(input_data), \"[%s]\" % re.escape(\n",
        "            string.punctuation), \"\"\n",
        "    )"
      ]
    },
    {
      "cell_type": "markdown",
      "metadata": {
        "id": "d2d3Aw8dsUux"
      },
      "source": [
        "Создаем слой `TextVectorization`, который используется для стандартизации, токенизации и векторизации данных.\n"
      ]
    },
    {
      "cell_type": "code",
      "execution_count": 61,
      "metadata": {
        "id": "-c76RvSzsMnX"
      },
      "outputs": [],
      "source": [
        "max_features = 10000\n",
        "sequence_length = 250\n",
        "\n",
        "vectorize_layer = layers.TextVectorization(\n",
        "    standardize=custom_standardization,\n",
        "    max_tokens=max_features,\n",
        "    output_mode=\"int\",\n",
        "    output_sequence_length=sequence_length,\n",
        ")"
      ]
    },
    {
      "cell_type": "code",
      "execution_count": 62,
      "metadata": {
        "id": "GH4_2ZGJsa_X"
      },
      "outputs": [],
      "source": [
        "train_text = raw_train_ds.map(lambda x, y: x)\n",
        "vectorize_layer.adapt(train_text)"
      ]
    },
    {
      "cell_type": "markdown",
      "metadata": {
        "id": "SHQVEFzNt-K_"
      },
      "source": [
        "Посмотрим пример векторного представления\n"
      ]
    },
    {
      "cell_type": "code",
      "execution_count": 63,
      "metadata": {
        "id": "SCIg_T50wOCU"
      },
      "outputs": [],
      "source": [
        "def vectorize_text(text, label):\n",
        "    text = tf.expand_dims(text, -1)\n",
        "    return vectorize_layer(text), label"
      ]
    },
    {
      "cell_type": "code",
      "execution_count": 69,
      "metadata": {
        "colab": {
          "base_uri": "https://localhost:8080/"
        },
        "id": "XULcm6B3xQIO",
        "outputId": "48f25d1e-7b8e-4b8e-9dae-bd747c465851"
      },
      "outputs": [
        {
          "name": "stdout",
          "output_type": "stream",
          "text": [
            "Post tf.Tensor(b'bubble sort without using temporary variable i want to sort both 1 dimensional and 2 dimensional array without using temp variable in blank..how to do it can anyone suggest\\n', shape=(), dtype=string)\n",
            "Label java\n",
            "Vectorized post (<tf.Tensor: shape=(1, 250), dtype=int64, numpy=\n",
            "array([[   1,  441,  203,   47, 3547,  116,    3,   46,    4,  441,  280,\n",
            "          25, 3687,    8,   57, 3687,   82,  203,   47,  494,  116,    7,\n",
            "        6854,    4,   40,   11,   35,  285, 1174,    0,    0,    0,    0,\n",
            "           0,    0,    0,    0,    0,    0,    0,    0,    0,    0,    0,\n",
            "           0,    0,    0,    0,    0,    0,    0,    0,    0,    0,    0,\n",
            "           0,    0,    0,    0,    0,    0,    0,    0,    0,    0,    0,\n",
            "           0,    0,    0,    0,    0,    0,    0,    0,    0,    0,    0,\n",
            "           0,    0,    0,    0,    0,    0,    0,    0,    0,    0,    0,\n",
            "           0,    0,    0,    0,    0,    0,    0,    0,    0,    0,    0,\n",
            "           0,    0,    0,    0,    0,    0,    0,    0,    0,    0,    0,\n",
            "           0,    0,    0,    0,    0,    0,    0,    0,    0,    0,    0,\n",
            "           0,    0,    0,    0,    0,    0,    0,    0,    0,    0,    0,\n",
            "           0,    0,    0,    0,    0,    0,    0,    0,    0,    0,    0,\n",
            "           0,    0,    0,    0,    0,    0,    0,    0,    0,    0,    0,\n",
            "           0,    0,    0,    0,    0,    0,    0,    0,    0,    0,    0,\n",
            "           0,    0,    0,    0,    0,    0,    0,    0,    0,    0,    0,\n",
            "           0,    0,    0,    0,    0,    0,    0,    0,    0,    0,    0,\n",
            "           0,    0,    0,    0,    0,    0,    0,    0,    0,    0,    0,\n",
            "           0,    0,    0,    0,    0,    0,    0,    0,    0,    0,    0,\n",
            "           0,    0,    0,    0,    0,    0,    0,    0,    0,    0,    0,\n",
            "           0,    0,    0,    0,    0,    0,    0,    0,    0,    0,    0,\n",
            "           0,    0,    0,    0,    0,    0,    0,    0,    0,    0,    0,\n",
            "           0,    0,    0,    0,    0,    0,    0,    0]], dtype=int64)>, <tf.Tensor: shape=(), dtype=int32, numpy=1>)\n"
          ]
        }
      ],
      "source": [
        "# retrieve a batch (of 32 reviews and labels) from the dataset\n",
        "text_batch, label_batch = next(iter(raw_train_ds))\n",
        "first_post, first_label = text_batch[0], label_batch[0]\n",
        "print(\"Post\", first_post)\n",
        "print(\"Label\", raw_train_ds.class_names[first_label])\n",
        "print(\"Vectorized post\", vectorize_text(first_post, first_label))"
      ]
    },
    {
      "cell_type": "markdown",
      "metadata": {
        "id": "6u5EX0hxyNZT"
      },
      "source": [
        "Посмотрим наш словарь\n"
      ]
    },
    {
      "cell_type": "code",
      "execution_count": 70,
      "metadata": {
        "colab": {
          "base_uri": "https://localhost:8080/"
        },
        "id": "kRq9hTQzhVhW",
        "outputId": "ae9292c9-d6dd-4148-97ad-278155440bc3"
      },
      "outputs": [
        {
          "name": "stdout",
          "output_type": "stream",
          "text": [
            "1287 --->  saw\n",
            " 313 --->  source\n",
            "Vocabulary size: 10000\n"
          ]
        }
      ],
      "source": [
        "print(\"1287 ---> \", vectorize_layer.get_vocabulary()[1287])\n",
        "print(\" 313 ---> \", vectorize_layer.get_vocabulary()[313])\n",
        "print(\"Vocabulary size: {}\".format(len(vectorize_layer.get_vocabulary())))"
      ]
    },
    {
      "cell_type": "markdown",
      "metadata": {
        "id": "XD2H6utRydGv"
      },
      "source": [
        "Применим слой `TextVectorization` для ранее созданых датасетов train, validation и test\n"
      ]
    },
    {
      "cell_type": "code",
      "execution_count": 71,
      "metadata": {
        "id": "2zhmpeViI1iG"
      },
      "outputs": [],
      "source": [
        "train_ds = raw_train_ds.map(vectorize_text)\n",
        "val_ds = raw_val_ds.map(vectorize_text)\n",
        "test_ds = raw_test_ds.map(vectorize_text)"
      ]
    },
    {
      "cell_type": "markdown",
      "metadata": {
        "id": "YsVQyPMizjuO"
      },
      "source": [
        "### Немного о вопросах производительности\n",
        "\n",
        "Используем chache и prefetch для оптимизации производительности\n",
        "\n",
        "[data performance guide](https://www.tensorflow.org/guide/data_performance).\n"
      ]
    },
    {
      "cell_type": "code",
      "execution_count": 72,
      "metadata": {
        "id": "wMcs_H7izm5m"
      },
      "outputs": [],
      "source": [
        "AUTOTUNE = tf.data.AUTOTUNE\n",
        "\n",
        "train_ds = train_ds.cache().prefetch(buffer_size=AUTOTUNE)\n",
        "val_ds = val_ds.cache().prefetch(buffer_size=AUTOTUNE)\n",
        "test_ds = test_ds.cache().prefetch(buffer_size=AUTOTUNE)"
      ]
    },
    {
      "cell_type": "markdown",
      "metadata": {
        "id": "LLC02j2g-llC"
      },
      "source": [
        "### Создайте объект модели\n",
        "\n",
        "It's time to create your neural network:\n"
      ]
    },
    {
      "cell_type": "code",
      "execution_count": 128,
      "metadata": {
        "id": "dkQP6in8yUBR"
      },
      "outputs": [],
      "source": [
        "embedding_dim = 16"
      ]
    },
    {
      "cell_type": "code",
      "execution_count": 129,
      "metadata": {
        "colab": {
          "base_uri": "https://localhost:8080/"
        },
        "id": "xpKOoWgu-llD",
        "outputId": "736e0611-b789-4311-94e6-089672762f17"
      },
      "outputs": [
        {
          "name": "stdout",
          "output_type": "stream",
          "text": [
            "Model: \"sequential_8\"\n",
            "_________________________________________________________________\n",
            " Layer (type)                Output Shape              Param #   \n",
            "=================================================================\n",
            " embedding_8 (Embedding)     (None, None, 16)          160016    \n",
            "                                                                 \n",
            " dropout_16 (Dropout)        (None, None, 16)          0         \n",
            "                                                                 \n",
            " global_average_pooling1d_8   (None, 16)               0         \n",
            " (GlobalAveragePooling1D)                                        \n",
            "                                                                 \n",
            " dropout_17 (Dropout)        (None, 16)                0         \n",
            "                                                                 \n",
            " dense_8 (Dense)             (None, 4)                 68        \n",
            "                                                                 \n",
            "=================================================================\n",
            "Total params: 160,084\n",
            "Trainable params: 160,084\n",
            "Non-trainable params: 0\n",
            "_________________________________________________________________\n"
          ]
        }
      ],
      "source": [
        "model = tf.keras.Sequential(\n",
        "    [\n",
        "        layers.Embedding(max_features + 1, embedding_dim),\n",
        "        layers.Dropout(0.2),\n",
        "        layers.GlobalAveragePooling1D(),\n",
        "        layers.Dropout(0.2),\n",
        "        layers.Dense(4),\n",
        "    ]\n",
        ")\n",
        "\n",
        "model.summary()"
      ]
    },
    {
      "cell_type": "markdown",
      "metadata": {
        "id": "L4EqVWg4-llM"
      },
      "source": [
        "### Функция потерь и метод оптимизации\n",
        "\n",
        "Используем функцию потерь, подходящую для целочисленных меток классов: `tf.keras.losses.SparseCategoricalCrossentropy(from_logits=True)`.\n",
        "\n",
        "Используем метрику `accuracy`.\n"
      ]
    },
    {
      "cell_type": "code",
      "execution_count": 130,
      "metadata": {
        "id": "Mr0GP-cQ-llN"
      },
      "outputs": [],
      "source": [
        "model.compile(\n",
        "    loss=losses.SparseCategoricalCrossentropy(from_logits=True),\n",
        "    optimizer=\"adam\",\n",
        "    metrics=[\"accuracy\"],\n",
        ")"
      ]
    },
    {
      "cell_type": "markdown",
      "metadata": {
        "id": "35jv_fzP-llU"
      },
      "source": [
        "### Обучите модель\n",
        "\n",
        "You will train the model by passing the `dataset` object to the fit method.\n"
      ]
    },
    {
      "cell_type": "code",
      "execution_count": 131,
      "metadata": {
        "colab": {
          "base_uri": "https://localhost:8080/"
        },
        "id": "tXSGrjWZ-llW",
        "outputId": "e70fd88f-fb2a-4fec-9d51-ed7800701c7a"
      },
      "outputs": [
        {
          "name": "stdout",
          "output_type": "stream",
          "text": [
            "Epoch 1/10\n",
            "200/200 [==============================] - 2s 9ms/step - loss: 1.3774 - accuracy: 0.3431 - val_loss: 1.3644 - val_accuracy: 0.4850\n",
            "Epoch 2/10\n",
            "200/200 [==============================] - 1s 7ms/step - loss: 1.3467 - accuracy: 0.4820 - val_loss: 1.3249 - val_accuracy: 0.5294\n",
            "Epoch 3/10\n",
            "200/200 [==============================] - 1s 7ms/step - loss: 1.2965 - accuracy: 0.5430 - val_loss: 1.2670 - val_accuracy: 0.5788\n",
            "Epoch 4/10\n",
            "200/200 [==============================] - 1s 7ms/step - loss: 1.2301 - accuracy: 0.5798 - val_loss: 1.1974 - val_accuracy: 0.6194\n",
            "Epoch 5/10\n",
            "200/200 [==============================] - 1s 7ms/step - loss: 1.1565 - accuracy: 0.6248 - val_loss: 1.1256 - val_accuracy: 0.6700\n",
            "Epoch 6/10\n",
            "200/200 [==============================] - 1s 7ms/step - loss: 1.0806 - accuracy: 0.6639 - val_loss: 1.0563 - val_accuracy: 0.6931\n",
            "Epoch 7/10\n",
            "200/200 [==============================] - 1s 7ms/step - loss: 1.0112 - accuracy: 0.6969 - val_loss: 0.9932 - val_accuracy: 0.7188\n",
            "Epoch 8/10\n",
            "200/200 [==============================] - 2s 8ms/step - loss: 0.9488 - accuracy: 0.7262 - val_loss: 0.9361 - val_accuracy: 0.7381\n",
            "Epoch 9/10\n",
            "200/200 [==============================] - 2s 8ms/step - loss: 0.8905 - accuracy: 0.7477 - val_loss: 0.8858 - val_accuracy: 0.7456\n",
            "Epoch 10/10\n",
            "200/200 [==============================] - 2s 8ms/step - loss: 0.8387 - accuracy: 0.7592 - val_loss: 0.8420 - val_accuracy: 0.7638\n"
          ]
        }
      ],
      "source": [
        "epochs = 10\n",
        "history = model.fit(train_ds, validation_data=val_ds, epochs=epochs)"
      ]
    },
    {
      "cell_type": "markdown",
      "metadata": {
        "id": "9EEGuDVuzb5r"
      },
      "source": [
        "### Оцените качество модели\n"
      ]
    },
    {
      "cell_type": "code",
      "execution_count": 132,
      "metadata": {
        "colab": {
          "base_uri": "https://localhost:8080/"
        },
        "id": "zOMKywn4zReN",
        "outputId": "e76a65d1-24dd-4ea4-a5b0-7776e133a0c1"
      },
      "outputs": [
        {
          "name": "stdout",
          "output_type": "stream",
          "text": [
            "250/250 [==============================] - 1s 4ms/step - loss: 0.8716 - accuracy: 0.7400\n",
            "Loss:  0.8715820908546448\n",
            "Accuracy:  0.7400000095367432\n"
          ]
        }
      ],
      "source": [
        "loss, accuracy = model.evaluate(test_ds)\n",
        "\n",
        "print(\"Loss: \", loss)\n",
        "print(\"Accuracy: \", accuracy)"
      ]
    },
    {
      "cell_type": "markdown",
      "metadata": {
        "id": "ldbQqCw2Xc1W"
      },
      "source": [
        "### Постройте графики точности и потерь по времени\n"
      ]
    },
    {
      "cell_type": "code",
      "execution_count": 133,
      "metadata": {
        "colab": {
          "base_uri": "https://localhost:8080/"
        },
        "id": "-YcvZsdvWfDf",
        "outputId": "278a27dd-23d5-4c75-cab1-71ac6e342fdd"
      },
      "outputs": [
        {
          "data": {
            "text/plain": [
              "dict_keys(['loss', 'accuracy', 'val_loss', 'val_accuracy'])"
            ]
          },
          "execution_count": 133,
          "metadata": {},
          "output_type": "execute_result"
        }
      ],
      "source": [
        "history_dict = history.history\n",
        "history_dict.keys()"
      ]
    },
    {
      "cell_type": "markdown",
      "metadata": {
        "id": "1_CH32qJXruI"
      },
      "source": [
        "There are four entries: one for each monitored metric during training and validation. You can use these to plot the training and validation loss for comparison, as well as the training and validation accuracy:\n"
      ]
    },
    {
      "cell_type": "code",
      "execution_count": 134,
      "metadata": {
        "colab": {
          "base_uri": "https://localhost:8080/",
          "height": 472
        },
        "id": "2SEMeQ5YXs8z",
        "outputId": "94e9ca18-350b-4af6-9270-b2eaaae3fb5f"
      },
      "outputs": [
        {
          "data": {
            "image/png": "[encoded data removed]",
            "text/plain": [
              "<Figure size 640x480 with 1 Axes>"
            ]
          },
          "metadata": {},
          "output_type": "display_data"
        }
      ],
      "source": [
        "acc = history_dict[\"accuracy\"]\n",
        "val_acc = history_dict[\"val_accuracy\"]\n",
        "loss = history_dict[\"loss\"]\n",
        "val_loss = history_dict[\"val_loss\"]\n",
        "\n",
        "epochs = range(1, len(acc) + 1)\n",
        "\n",
        "plt.plot(epochs, loss, \"bo\", label=\"Training loss\")\n",
        "plt.plot(epochs, val_loss, \"b\", label=\"Validation loss\")\n",
        "plt.title(\"Training and validation loss\")\n",
        "plt.xlabel(\"Epochs\")\n",
        "plt.ylabel(\"Loss\")\n",
        "plt.legend()\n",
        "\n",
        "plt.show()"
      ]
    },
    {
      "cell_type": "code",
      "execution_count": 135,
      "metadata": {
        "colab": {
          "base_uri": "https://localhost:8080/",
          "height": 472
        },
        "id": "Z3PJemLPXwz_",
        "outputId": "eb27753d-bad6-462a-dfbf-e3816962ecdb"
      },
      "outputs": [
        {
          "data": {
            "image/png": "[encoded data removed]",
            "text/plain": [
              "<Figure size 640x480 with 1 Axes>"
            ]
          },
          "metadata": {},
          "output_type": "display_data"
        }
      ],
      "source": [
        "plt.plot(epochs, acc, \"bo\", label=\"Training acc\")\n",
        "plt.plot(epochs, val_acc, \"b\", label=\"Validation acc\")\n",
        "plt.title(\"Training and validation accuracy\")\n",
        "plt.xlabel(\"Epochs\")\n",
        "plt.ylabel(\"Accuracy\")\n",
        "plt.legend(loc=\"lower right\")\n",
        "\n",
        "plt.show()"
      ]
    },
    {
      "cell_type": "markdown",
      "metadata": {
        "id": "-to23J3Vy5d3"
      },
      "source": [
        "## Экспортируйте модель с дополнительным слоем подготовки данных\n"
      ]
    },
    {
      "cell_type": "code",
      "execution_count": 137,
      "metadata": {
        "colab": {
          "base_uri": "https://localhost:8080/"
        },
        "id": "FWXsMvryuZuq",
        "outputId": "1421411d-0155-4f00-d13d-64fc02733218"
      },
      "outputs": [
        {
          "name": "stdout",
          "output_type": "stream",
          "text": [
            "250/250 [==============================] - 4s 13ms/step - loss: 0.8716 - accuracy: 0.7400\n",
            "0.7400000095367432\n"
          ]
        }
      ],
      "source": [
        "export_model = tf.keras.Sequential(\n",
        "    [vectorize_layer, model, layers.Activation(\"sigmoid\")]\n",
        ")\n",
        "\n",
        "export_model.compile(\n",
        "    loss=losses.SparseCategoricalCrossentropy(from_logits=False),\n",
        "    optimizer=\"adam\",\n",
        "    metrics=[\"accuracy\"],\n",
        ")\n",
        "\n",
        "loss, accuracy = export_model.evaluate(raw_test_ds)\n",
        "print(accuracy)"
      ]
    },
    {
      "cell_type": "markdown",
      "metadata": {
        "id": "TwQgoN88LoEF"
      },
      "source": [
        "### Осуществите предсказание на новых для модели данных\n",
        "\n",
        "To get predictions for new examples, you can simply call `model.predict()`.\n"
      ]
    },
    {
      "cell_type": "code",
      "execution_count": null,
      "metadata": {
        "colab": {
          "base_uri": "https://localhost:8080/"
        },
        "id": "QW355HH5L49K",
        "outputId": "2626f94e-df2a-47e6-c732-43dce12ea11a"
      },
      "outputs": [],
      "source": [
        "examples = [\"The movie was great!\",\n",
        "            \"The movie was okay.\", \"The movie was terrible...\"]\n",
        "\n",
        "export_model.predict(examples)"
      ]
    },
    {
      "cell_type": "markdown",
      "metadata": {
        "id": "MaxlpFWpzR6c"
      },
      "source": [
        "Including the text preprocessing logic inside your model enables you to export a model for production that simplifies deployment, and reduces the potential for [train/test skew](https://developers.google.com/machine-learning/guides/rules-of-ml#training-serving_skew).\n",
        "\n",
        "There is a performance difference to keep in mind when choosing where to apply your TextVectorization layer. Using it outside of your model enables you to do asynchronous CPU processing and buffering of your data when training on GPU. So, if you're training your model on the GPU, you probably want to go with this option to get the best performance while developing your model, then switch to including the TextVectorization layer inside your model when you're ready to prepare for deployment.\n",
        "\n",
        "Visit this [tutorial](https://www.tensorflow.org/tutorials/keras/save_and_load) to learn more about saving models.\n"
      ]
    },
    {
      "cell_type": "markdown",
      "metadata": {},
      "source": []
    },
    {
      "cell_type": "markdown",
      "metadata": {
        "id": "F0T5SIwSm7uc"
      },
      "source": [
        "## Больше о классификации текстов ...\n",
        "\n",
        "...можно узнать тут: [Text classification guide](https://developers.google.com/machine-learning/guides/text-classification/).\n",
        "Подходы с использованием ИНС (искуственных нейронных сетей): https://lena-voita.github.io/nlp_course/text_classification.html#neural_approaches\n"
      ]
    },
    {
      "cell_type": "markdown",
      "metadata": {},
      "source": [
        "Лицензии, с которыми авторы используемого кода просят распространять его:\n",
        "\n",
        "```\n",
        "Licensed under the Apache License, Version 2.0 (the \"License\");\n",
        "you may not use this file except in compliance with the License.\n",
        "You may obtain a copy of the License at\n",
        "\n",
        "https://www.apache.org/licenses/LICENSE-2.0\n",
        "\n",
        "Unless required by applicable law or agreed to in writing, software\n",
        "distributed under the License is distributed on an \"AS IS\" BASIS,\n",
        "WITHOUT WARRANTIES OR CONDITIONS OF ANY KIND, either express or implied.\n",
        "See the License for the specific language governing permissions and\n",
        "limitations under the License.\n",
        "\n",
        "\n",
        "MIT License\n",
        "\n",
        "Copyright (c) 2017 François Chollet\n",
        "\n",
        "Permission is hereby granted, free of charge, to any person obtaining a\n",
        "copy of this software and associated documentation files (the \"Software\"),\n",
        "to deal in the Software without restriction, including without limitation\n",
        "the rights to use, copy, modify, merge, publish, distribute, sublicense,\n",
        "and/or sell copies of the Software, and to permit persons to whom the\n",
        "Software is furnished to do so, subject to the following conditions:\n",
        "\n",
        "The above copyright notice and this permission notice shall be included in\n",
        "all copies or substantial portions of the Software.\n",
        "\n",
        "THE SOFTWARE IS PROVIDED \"AS IS\", WITHOUT WARRANTY OF ANY KIND, EXPRESS OR\n",
        "IMPLIED, INCLUDING BUT NOT LIMITED TO THE WARRANTIES OF MERCHANTABILITY,\n",
        "FITNESS FOR A PARTICULAR PURPOSE AND NONINFRINGEMENT. IN NO EVENT SHALL\n",
        "THE AUTHORS OR COPYRIGHT HOLDERS BE LIABLE FOR ANY CLAIM, DAMAGES OR OTHER\n",
        "LIABILITY, WHETHER IN AN ACTION OF CONTRACT, TORT OR OTHERWISE, ARISING\n",
        "FROM, OUT OF OR IN CONNECTION WITH THE SOFTWARE OR THE USE OR OTHER\n",
        "DEALINGS IN THE SOFTWARE.\n",
        "```\n",
        "\n",
        "<table class=\"tfo-notebook-buttons\" align=\"left\">\n",
        "  <td>\n",
        "    <a target=\"_blank\" href=\"https://www.tensorflow.org/tutorials/keras/text_classification\"><img src=\"https://www.tensorflow.org/images/tf_logo_32px.png\" />View on TensorFlow.org</a>\n",
        "  </td>\n",
        "  <td>\n",
        "    <a target=\"_blank\" href=\"https://colab.research.google.com/github/tensorflow/docs/blob/master/site/en/tutorials/keras/text_classification.ipynb\"><img src=\"https://www.tensorflow.org/images/colab_logo_32px.png\" />Run in Google Colab</a>\n",
        "  </td>\n",
        "  <td>\n",
        "    <a target=\"_blank\" href=\"https://github.com/tensorflow/docs/blob/master/site/en/tutorials/keras/text_classification.ipynb\"><img src=\"https://www.tensorflow.org/images/GitHub-Mark-32px.png\" />View source on GitHub</a>\n",
        "  </td>\n",
        "  <td>\n",
        "    <a href=\"https://storage.googleapis.com/tensorflow_docs/docs/site/en/tutorials/keras/text_classification.ipynb\"><img src=\"https://www.tensorflow.org/images/download_logo_32px.png\" />Download notebook</a>\n",
        "  </td>\n",
        "</table>\n"
      ]
    }
  ],
  "metadata": {
    "accelerator": "GPU",
    "colab": {
      "provenance": [],
      "toc_visible": true
    },
    "kernelspec": {
      "display_name": "Python 3",
      "name": "python3"
    },
    "language_info": {
      "codemirror_mode": {
        "name": "ipython",
        "version": 3
      },
      "file_extension": ".py",
      "mimetype": "text/x-python",
      "name": "python",
      "nbconvert_exporter": "python",
      "pygments_lexer": "ipython3",
      "version": "3.10.12"
    }
  },
  "nbformat": 4,
  "nbformat_minor": 0
}
